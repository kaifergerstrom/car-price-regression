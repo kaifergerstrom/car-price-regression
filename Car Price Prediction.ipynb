{
 "cells": [
  {
   "cell_type": "markdown",
   "metadata": {},
   "source": [
    "# Car Price Prediction (Multi-Variable Linear Regression)\n",
    "#### Can the price of a car be predicted based on physical features?\n",
    "Data set provided by https://www.kaggle.com/hellbuoy/car-price-prediction"
   ]
  },
  {
   "cell_type": "code",
   "execution_count": 178,
   "metadata": {},
   "outputs": [],
   "source": [
    "import pickle\n",
    "import pandas as pd\n",
    "import matplotlib.pyplot as plt\n",
    "import numpy as np\n",
    "from sklearn import preprocessing, svm\n",
    "from sklearn.model_selection import train_test_split\n",
    "from sklearn.linear_model import LinearRegression"
   ]
  },
  {
   "cell_type": "markdown",
   "metadata": {},
   "source": [
    "### Unfortunately the dataset provided has many string types. To do linear regression, I must map the columns into numeric values. \n",
    "def create_num_row(df, col) is my solution to this problem."
   ]
  },
  {
   "cell_type": "code",
   "execution_count": 197,
   "metadata": {
    "scrolled": false
   },
   "outputs": [],
   "source": [
    "### 1. Prepare dataset\n",
    "\n",
    "def create_brands(df):  # Create brands column in df (not used)\n",
    "    brands = pickle.load(open(\"data/brands.pkl\", 'rb'))\n",
    "    df['brand'] = df['CarName']\n",
    "    for name in df['brand']:\n",
    "        for brand in brands:\n",
    "            if brand in name:\n",
    "                df.loc[df['brand'] == name, 'brand'] = brand\n",
    "    return df\n",
    "\n",
    "def create_num_row(df, col):  # Convert string columns into numeric values. Returns dictionary \n",
    "    if df[col].dtype == np.object:\n",
    "        col_dict = {k: v for v, k in enumerate(df[col].unique())}\n",
    "        df[col] = df[col].map(col_dict)\n",
    "    return df, col_dict\n",
    "\n",
    "df = pd.read_csv(\"data/CarPrice_Assignment.csv\")\n",
    "df = create_brands(df)\n",
    "\n",
    "X = df.drop(['CarName', 'car_ID', 'price', 'brand'], axis=1)\n",
    "y = df['price']\n",
    "    \n",
    "# Generate conversion dictionaries for string columns (a little sloppy looking but does the job)\n",
    "X, engine_location = create_num_row(X, \"enginelocation\")\n",
    "X, fuel_type = create_num_row(X, \"fueltype\")\n",
    "X, aspiration = create_num_row(X, \"aspiration\")\n",
    "X, door_number = create_num_row(X, \"doornumber\")\n",
    "X, car_body = create_num_row(X, \"carbody\")\n",
    "X, drive_wheel = create_num_row(X, \"drivewheel\")\n",
    "X, engine_type = create_num_row(X, \"enginetype\")\n",
    "X, cylinder_number = create_num_row(X, \"cylindernumber\")\n",
    "X, fuel_system = create_num_row(X, \"fuelsystem\")\n",
    "\n",
    "X = preprocessing.scale(X)  # Scale and Normalize x values"
   ]
  },
  {
   "cell_type": "code",
   "execution_count": 198,
   "metadata": {},
   "outputs": [
    {
     "name": "stdout",
     "output_type": "stream",
     "text": [
      "91.99042703901894\n"
     ]
    }
   ],
   "source": [
    "### 2. Prepare training and testing set\n",
    "\n",
    "X_train, X_test, y_train, y_test = train_test_split(X, y, test_size=0.2)\n",
    "\n",
    "model = LinearRegression(n_jobs=-1)\n",
    "model.fit(X_train, y_train)\n",
    "\n",
    "y_pred = model.predict(X_test)\n",
    "accuracy = model.score(X_test, y_test)\n",
    "print(accuracy*100)"
   ]
  },
  {
   "cell_type": "code",
   "execution_count": null,
   "metadata": {},
   "outputs": [],
   "source": []
  },
  {
   "cell_type": "code",
   "execution_count": null,
   "metadata": {},
   "outputs": [],
   "source": []
  },
  {
   "cell_type": "code",
   "execution_count": null,
   "metadata": {},
   "outputs": [],
   "source": []
  }
 ],
 "metadata": {
  "kernelspec": {
   "display_name": "Python 3",
   "language": "python",
   "name": "python3"
  },
  "language_info": {
   "codemirror_mode": {
    "name": "ipython",
    "version": 3
   },
   "file_extension": ".py",
   "mimetype": "text/x-python",
   "name": "python",
   "nbconvert_exporter": "python",
   "pygments_lexer": "ipython3",
   "version": "3.7.4"
  }
 },
 "nbformat": 4,
 "nbformat_minor": 2
}
